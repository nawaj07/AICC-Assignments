{
  "nbformat": 4,
  "nbformat_minor": 0,
  "metadata": {
    "colab": {
      "name": "Copy of Untitled0.ipynb",
      "provenance": [],
      "collapsed_sections": []
    },
    "kernelspec": {
      "name": "python3",
      "display_name": "Python 3"
    }
  },
  "cells": [
    {
      "cell_type": "code",
      "metadata": {
        "id": "nE0Pe51Z7Eu_",
        "colab": {
          "base_uri": "https://localhost:8080/"
        },
        "outputId": "734708a7-8941-4f77-b031-d215aaadf774"
      },
      "source": [
        "def multiply(n):\r\n",
        "  '''Enter a number and get its multiplication table'''\r\n",
        "  for i in range(1,11):\r\n",
        "    result = i*n\r\n",
        "    print(\"{0} X {1} = {2}\".format(n,i,result))\r\n",
        "multiply(5)"
      ],
      "execution_count": null,
      "outputs": [
        {
          "output_type": "stream",
          "text": [
            "5 X 1 = 5\n",
            "5 X 2 = 10\n",
            "5 X 3 = 15\n",
            "5 X 4 = 20\n",
            "5 X 5 = 25\n",
            "5 X 6 = 30\n",
            "5 X 7 = 35\n",
            "5 X 8 = 40\n",
            "5 X 9 = 45\n",
            "5 X 10 = 50\n"
          ],
          "name": "stdout"
        }
      ]
    }
  ]
}