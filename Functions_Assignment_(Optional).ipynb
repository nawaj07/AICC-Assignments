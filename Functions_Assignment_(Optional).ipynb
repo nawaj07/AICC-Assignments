{
  "nbformat": 4,
  "nbformat_minor": 0,
  "metadata": {
    "colab": {
      "name": "Functions Assignment (Optional).ipynb",
      "provenance": [],
      "collapsed_sections": [],
      "authorship_tag": "ABX9TyMN7b0m3mlkAocfCl82U7mH",
      "include_colab_link": true
    },
    "kernelspec": {
      "name": "python3",
      "display_name": "Python 3"
    }
  },
  "cells": [
    {
      "cell_type": "markdown",
      "metadata": {
        "id": "view-in-github",
        "colab_type": "text"
      },
      "source": [
        "<a href=\"https://colab.research.google.com/github/nawaj07/AICC-Assignments/blob/master/Functions_Assignment_(Optional).ipynb\" target=\"_parent\"><img src=\"https://colab.research.google.com/assets/colab-badge.svg\" alt=\"Open In Colab\"/></a>"
      ]
    },
    {
      "cell_type": "markdown",
      "metadata": {
        "id": "MAmIb37-5zFF"
      },
      "source": [
        "1 - Write a function that inputs a number and prints the multiplication table of that number"
      ]
    },
    {
      "cell_type": "code",
      "metadata": {
        "id": "nE0Pe51Z7Eu_"
      },
      "source": [
        "def multiply(n):\r\n",
        "  '''Enter a number and get its multiplication table'''\r\n",
        "  for i in range(1,11):\r\n",
        "    result = i*n\r\n",
        "    print(\"{0} X {1} = {2}\".format(n,i,result))\r\n",
        "multiply(5)"
      ],
      "execution_count": null,
      "outputs": []
    },
    {
      "cell_type": "markdown",
      "metadata": {
        "id": "tQYFZhWO5xuD"
      },
      "source": [
        "2 - Write a program to print twin primes less than 1000. If two consecutive odd numbers are\r\n",
        "both prime then they are known as twin primes"
      ]
    },
    {
      "cell_type": "code",
      "metadata": {
        "colab": {
          "base_uri": "https://localhost:8080/"
        },
        "id": "wUM6eQ486Cq1",
        "outputId": "31f79782-fc26-476d-bbcb-1a6ea1ad48c7"
      },
      "source": [
        "def is_Prime(n):\r\n",
        "  '''Prime Numbers'''\r\n",
        "  for i in range(2,n):\r\n",
        "    if n%i==0:\r\n",
        "      return False\r\n",
        "  return True\r\n",
        "\r\n",
        "\r\n",
        "def twin_prime(x):\r\n",
        "  '''Program to print twin primes less than 1000'''\r\n",
        "  twins=[]\r\n",
        "  counter=0\r\n",
        "  for i in range(2,x):\r\n",
        "    j = i+2\r\n",
        "    if(is_Prime(i) and is_Prime(j)):\r\n",
        "      twins.append((i,j))\r\n",
        "      counter+=1\r\n",
        "\r\n",
        "  print(\"The Twin Primes are:{}\\n\".format(counter))\r\n",
        "  print(twins)\r\n",
        "twin_prime(1000)"
      ],
      "execution_count": 79,
      "outputs": [
        {
          "output_type": "stream",
          "text": [
            "The Twin Primes are:35\n",
            "\n",
            "[(3, 5), (5, 7), (11, 13), (17, 19), (29, 31), (41, 43), (59, 61), (71, 73), (101, 103), (107, 109), (137, 139), (149, 151), (179, 181), (191, 193), (197, 199), (227, 229), (239, 241), (269, 271), (281, 283), (311, 313), (347, 349), (419, 421), (431, 433), (461, 463), (521, 523), (569, 571), (599, 601), (617, 619), (641, 643), (659, 661), (809, 811), (821, 823), (827, 829), (857, 859), (881, 883)]\n"
          ],
          "name": "stdout"
        }
      ]
    }
  ]
}